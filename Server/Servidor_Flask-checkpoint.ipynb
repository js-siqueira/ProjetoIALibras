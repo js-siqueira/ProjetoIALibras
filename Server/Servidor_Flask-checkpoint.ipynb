{
 "cells": [
  {
   "cell_type": "code",
   "execution_count": null,
   "id": "3958a093",
   "metadata": {},
   "outputs": [
    {
     "name": "stdout",
     "output_type": "stream",
     "text": [
      " * Serving Flask app \"__main__\" (lazy loading)\n",
      " * Environment: production\n",
      "   WARNING: This is a development server. Do not use it in a production deployment.\n",
      "   Use a production WSGI server instead.\n",
      " * Debug mode: off\n"
     ]
    },
    {
     "name": "stderr",
     "output_type": "stream",
     "text": [
      " * Running on http://127.0.0.1:5000/ (Press CTRL+C to quit)\n",
      "127.0.0.1 - - [17/Nov/2021 19:42:16] \"\u001b[37mGET / HTTP/1.1\u001b[0m\" 200 -\n"
     ]
    },
    {
     "name": "stdout",
     "output_type": "stream",
     "text": [
      "No valid request body, json missing!\n"
     ]
    },
    {
     "name": "stderr",
     "output_type": "stream",
     "text": [
      "127.0.0.1 - - [17/Nov/2021 19:42:16] \"\u001b[33mGET /favicon.ico HTTP/1.1\u001b[0m\" 404 -\n"
     ]
    }
   ],
   "source": [
    "from flask import Flask, jsonify\n",
    "from flask import request\n",
    "\n",
    "app = Flask(__name__)\n",
    "\n",
    "@app.route(\"/\", methods=['GET', 'POST'])\n",
    "def conexaoAndroid():\n",
    "    \n",
    "    json=request.get_json()\n",
    "    if json is None:\n",
    "        print(\"No valid request body, json missing!\")\n",
    "        return jsonify({'error': 'No valid request body, json missing!'})\n",
    "    else:\n",
    "        img_data = json['img']\n",
    "        convert_and_save(img_data)\n",
    "\n",
    "      # this method convert and save the base64 string to image\n",
    "     \n",
    "        \n",
    "    ia = joblib.load('svm_model_pkl')\n",
    "    resultado = ia.predict([img_data])\n",
    "    doenca = ''.join(map(str,resultado))\n",
    "    return doenca\n",
    "\n",
    "def convert_and_save(b64_string):\n",
    "    with open(\"imageToSave.png\", \"wb\") as fh:\n",
    "        fh.write(upload_base64_file.b64decode()(b64_string.encode()))\n",
    "\n",
    "\n",
    "\n",
    "if __name__ == \"__main__\":\n",
    "    app.run()"
   ]
  },
  {
   "cell_type": "code",
   "execution_count": null,
   "id": "3b1baa33",
   "metadata": {},
   "outputs": [],
   "source": []
  }
 ],
 "metadata": {
  "kernelspec": {
   "display_name": "Python 3",
   "language": "python",
   "name": "python3"
  },
  "language_info": {
   "codemirror_mode": {
    "name": "ipython",
    "version": 3
   },
   "file_extension": ".py",
   "mimetype": "text/x-python",
   "name": "python",
   "nbconvert_exporter": "python",
   "pygments_lexer": "ipython3",
   "version": "3.8.8"
  }
 },
 "nbformat": 4,
 "nbformat_minor": 5
}
